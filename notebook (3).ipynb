{
  "cells": [
    {
      "metadata": {
        "_uuid": "e9ae05b17f387d2578141852fdbce044d51308e3",
        "_cell_guid": "9c355c2c-044d-2b87-e1cf-a6732fb9e802"
      },
      "cell_type": "markdown",
      "source": "# Identifying Duplicate Questions\n\n"
    },
    {
      "metadata": {
        "_uuid": "3472948563b27aa9d572c6097a8f4f185508e8d6",
        "_cell_guid": "d9f5b5bf-b8a8-a88a-a16c-7666be39bd7e",
        "trusted": false,
        "collapsed": true
      },
      "cell_type": "code",
      "source": "import numpy as np # linear algebra\nimport pandas as pd # data processing, CSV file(e.g. pd.read_csv) I/O \nimport os\nimport gc\nimport matplotlib.pyplot as plt\nimport seaborn as sns\n%matplotlib inline\n\npal = sns.color_palette()\n\nprint('# File sizes')\nfor f in os.listdir('../input'):\n    if 'zip' not in f:\n        print(f.ljust(30) + str(round(os.path.getsize('../input/' + f) / 1000000, 2)) + 'MB')",
      "execution_count": null,
      "outputs": []
    },
    {
      "metadata": {
        "_uuid": "1c2193590aad7ac820ac0760231b503431d21926",
        "_cell_guid": "e9b03ade-149a-7d6a-d954-2db4ebb7806f"
      },
      "cell_type": "markdown",
      "source": "\nLet's open up one of the datasets.\n\n## Training set"
    },
    {
      "metadata": {
        "_uuid": "dca4adfe499fafb374e442db651796771b564f45",
        "_cell_guid": "0ac4cab6-214b-957b-bb2a-01f7e8d5ed2b",
        "trusted": false,
        "collapsed": true
      },
      "cell_type": "code",
      "source": "df_train = pd.read_csv('../input/train.csv')\ndf_train.head()",
      "execution_count": null,
      "outputs": []
    },
    {
      "metadata": {
        "_uuid": "da40ea1287442bc50c1c0765ae40922516689e99",
        "_cell_guid": "a90218ce-edfc-e4bb-92cd-e49d09c0615c"
      },
      "cell_type": "markdown",
      "source": "We are given a minimal number of data fields here, consisting of:\n\n**`id`:** Looks like a simple rowID    \n**`qid{1, 2}`:** The unique ID of each question in the pair    \n**`question{1, 2}`:** The actual textual contents of the questions.    \n**`is_duplicate`:** The **label** that we are trying to predict - whether the two questions are duplicates of each other."
    },
    {
      "metadata": {
        "_uuid": "bd143ea96629ec858908cf1e97e59b4f4fb27e90",
        "_cell_guid": "68e0a285-995b-ecb2-fde7-3486c982912b",
        "trusted": false,
        "collapsed": true
      },
      "cell_type": "code",
      "source": "print('Total number of question pairs for training: {}'.format(len(df_train)))\nprint('Duplicate pairs: {}%'.format(round(df_train['is_duplicate'].mean()*100, 2)))\nqids = pd.Series(df_train['qid1'].tolist() + df_train['qid2'].tolist())\nprint('Total number of questions in the training data: {}'.format(len(\n    np.unique(qids))))\nprint('Number of questions that appear multiple times: {}'.format(np.sum(qids.value_counts() > 1)))\n\nplt.figure(figsize=(12, 5))\nplt.hist(qids.value_counts(), bins=50)\nplt.yscale('log', nonposy='clip')\nplt.title('Log-Histogram of question appearance counts')\nplt.xlabel('Number of occurences of question')\nplt.ylabel('Number of questions')\nprint()",
      "execution_count": null,
      "outputs": []
    },
    {
      "metadata": {
        "_uuid": "6d7a6dc3281b53c8a0be9290bccff16fc30882c7",
        "_cell_guid": "f5144bde-9178-827c-6591-fc502323d5fa"
      },
      "cell_type": "markdown",
      "source": "In terms of questions, everything looks as I would expect here. Most questions only appear a few times, with very few questions appearing several times (and a few questions appearing many times). One question appears more than 160 times, but this is an outlier.\n\nWe can see that we have a 37% positive class in this dataset. Since we are using the [LogLoss](https://www.kaggle.com/wiki/LogarithmicLoss) metric, and LogLoss looks at the actual predicts as opposed to the order of predictions.\n\n## Test Submission"
    },
    {
      "metadata": {
        "_uuid": "50a0570a698f5bea2716c768d8c34634819b5d93",
        "_cell_guid": "dc70e18f-f364-0518-1d85-f7409269c754",
        "trusted": false,
        "collapsed": true
      },
      "cell_type": "code",
      "source": "from sklearn.metrics import log_loss\n\np = df_train['is_duplicate'].mean() # Our predicted probability\nprint('Predicted score:', log_loss(df_train['is_duplicate'], np.zeros_like(df_train['is_duplicate']) + p))\n\ndf_test = pd.read_csv('../input/test.csv')\nsub = pd.DataFrame({'test_id': df_test['test_id'], 'is_duplicate': p})\nsub.to_csv('naive_submission.csv', index=False)\nsub.head()",
      "execution_count": null,
      "outputs": []
    },
    {
      "metadata": {
        "_uuid": "ef51d1e759e6673bf8760dc824faadfabf5e8341",
        "_cell_guid": "3bdf7cc4-4625-b5e6-996c-ecb063981bf2"
      },
      "cell_type": "markdown",
      "source": "\n\n The discrepancy between our local score and the LB one indicates that the distribution of values on the leaderboard is very different to what we have here, which could cause problems with validation later on in the competition.\n\nUsing our score and submission we can calculate that we have about 16.5% positives in the test set. This is quite surprising to see, so it'll be something that will need to be taken into account in machine learning models.\n\nNext, I'll take a quick peek at the statistics of the test data before we look at the text itself.\n\n## Test Set"
    },
    {
      "metadata": {
        "_uuid": "17dd453fd299c48aedcb692a5af1b9853598f31f",
        "_cell_guid": "ff61e6b2-08b2-1734-db03-2db3ff5ee268",
        "trusted": false,
        "collapsed": true
      },
      "cell_type": "code",
      "source": "df_test = pd.read_csv('../input/test.csv')\ndf_test.head()",
      "execution_count": null,
      "outputs": []
    },
    {
      "metadata": {
        "_uuid": "e508f87258448f1a655befb39a3e3fe174938aa5",
        "_cell_guid": "1477d9f9-7cbf-09f5-21af-6b1da642ee69",
        "trusted": false,
        "collapsed": true
      },
      "cell_type": "code",
      "source": "print('Total number of question pairs for testing: {}'.format(len(df_test)))",
      "execution_count": null,
      "outputs": []
    },
    {
      "metadata": {
        "_uuid": "49c2201b62b11b13342ad9fec897b685f511458e",
        "_cell_guid": "39f2c240-caa5-675b-3e6e-f9195808b392"
      },
      "cell_type": "markdown",
      "source": "Nothing out of the ordinary here. We are once again given rowIDs and the textual data of the two questions. It is worth noting that we are not given question IDs here however for the two questions in the pair.\n\nIt is also worth pointing out that the actual number of test rows are likely to be much lower than 2.3 million. According to the [data page](https://www.kaggle.com/c/quora-question-pairs/data), most of the rows in the test set are using auto-generated questions to pad out the dataset, and deter any hand-labelling. This means that the true number of rows that are scored could be very low.\n\n## Text analysis\n\nFirst off, some quick histograms to understand what we're looking at. **Most analysis here will be only on the training set, to avoid the auto-generated questions**"
    },
    {
      "metadata": {
        "_uuid": "2d4784a0efea51b73fbf342739d80f7a57ae5c28",
        "_cell_guid": "ba41ab36-b287-4c5d-4ec5-a2c28034baa7",
        "trusted": false,
        "collapsed": true
      },
      "cell_type": "code",
      "source": "train_qs = pd.Series(df_train['question1'].tolist() + df_train['question2'].tolist()).astype(str)\ntest_qs = pd.Series(df_test['question1'].tolist() + df_test['question2'].tolist()).astype(str)\n\ndist_train = train_qs.apply(len)\ndist_test = test_qs.apply(len)\nplt.figure(figsize=(15, 10))\nplt.hist(dist_train, bins=200, range=[0, 200], color=pal[2], normed=True, label='train')\nplt.hist(dist_test, bins=200, range=[0, 200], color=pal[1], normed=True, alpha=0.5, label='test')\nplt.title('Normalised histogram of character count in questions', fontsize=15)\nplt.legend()\nplt.xlabel('Number of characters', fontsize=15)\nplt.ylabel('Probability', fontsize=15)\n\nprint('mean-train {:.2f} std-train {:.2f} mean-test {:.2f} std-test {:.2f} max-train {:.2f} max-test {:.2f}'.format(dist_train.mean(), \n                          dist_train.std(), dist_test.mean(), dist_test.std(), dist_train.max(), dist_test.max()))",
      "execution_count": null,
      "outputs": []
    },
    {
      "metadata": {
        "_uuid": "3414fb05cec1b1895f4c3fd62b44ac59de836ee4",
        "_cell_guid": "0ed063c0-9d5c-bc09-9c48-22ff739859bd"
      },
      "cell_type": "markdown",
      "source": "We can see that most questions have anywhere from 15 to 150 characters in them. It seems that the test distribution is a little different from the train one, but not too much so (I can't tell if it is just the larger data reducing noise, but it also seems like the distribution is a lot smoother in the test set).\n\nOne thing that catches my eye is the steep cut-off at 150 characters for the training set, for most questions, while the test set slowly decreases after 150. Could this be some sort of Quora question size limit?\n\nIt's also worth noting that I've truncated this histogram at 200 characters, and that the max of the distribution is at just under 1200 characters for both sets - although samples with over 200 characters are very rare.\n\nLet's do the same for word count. I'll be using splitting on spaces instead of using a serious tokenizer, although this should still give us a good idea of the distribution."
    },
    {
      "metadata": {
        "_uuid": "9a0f3747e3559cd37c29a77767b6a7a9b4c111c7",
        "_cell_guid": "2a86bc3f-1359-ef11-4411-ec5b54c6dca5",
        "trusted": false,
        "collapsed": true
      },
      "cell_type": "code",
      "source": "dist_train = train_qs.apply(lambda x: len(x.split(' ')))\ndist_test = test_qs.apply(lambda x: len(x.split(' ')))\n\nplt.figure(figsize=(15, 10))\nplt.hist(dist_train, bins=50, range=[0, 50], color=pal[2], normed=True, label='train')\nplt.hist(dist_test, bins=50, range=[0, 50], color=pal[1], normed=True, alpha=0.5, label='test')\nplt.title('Normalised histogram of word count in questions', fontsize=15)\nplt.legend()\nplt.xlabel('Number of words', fontsize=15)\nplt.ylabel('Probability', fontsize=15)\n\nprint('mean-train {:.2f} std-train {:.2f} mean-test {:.2f} std-test {:.2f} max-train {:.2f} max-test {:.2f}'.format(dist_train.mean(), \n                          dist_train.std(), dist_test.mean(), dist_test.std(), dist_train.max(), dist_test.max()))",
      "execution_count": null,
      "outputs": []
    },
    {
      "metadata": {
        "_uuid": "564c8f3d72e333e086ebebf2416c8cab1566e8e3",
        "_cell_guid": "f7eb07e3-fe48-c4ca-359e-71e5c7a1a4b3"
      },
      "cell_type": "markdown",
      "source": "We see a similar distribution for word count, with most questions being about 10 words long. It looks to me like the distribution of the training set seems more \"pointy\", while on the test set it is wider. Nevertheless, they are quite similar.\n\nSo what are the most common words? Let's take a look at a word cloud."
    },
    {
      "metadata": {
        "_uuid": "daac0795795312da3bf0f3d084305372bb6226f3",
        "_cell_guid": "d8202c51-7d0e-bf00-591d-41ce37cef841",
        "trusted": false,
        "collapsed": true
      },
      "cell_type": "code",
      "source": "from wordcloud import WordCloud\ncloud = WordCloud(width=1440, height=1080).generate(\" \".join(train_qs.astype(str)))\nplt.figure(figsize=(20, 15))\nplt.imshow(cloud)\nplt.axis('off')",
      "execution_count": null,
      "outputs": []
    },
    {
      "metadata": {
        "_uuid": "8ef83edf5284d7f7a99cceca65252554bcc3ca6a",
        "_cell_guid": "e486c424-b529-e366-b455-77ee0df3aa84"
      },
      "cell_type": "markdown",
      "source": "## Semantic Analysis\n\nNext, I will take a look at usage of different punctuation in questions - this may form a basis for some interesting features later on."
    },
    {
      "metadata": {
        "_uuid": "25ce94b56eab7540cdc2e4a2c54f7796cb84bdaf",
        "_cell_guid": "371a1e30-e5cd-7a24-97d7-b505b5aefb78",
        "trusted": false,
        "collapsed": true
      },
      "cell_type": "code",
      "source": "qmarks = np.mean(train_qs.apply(lambda x: '?' in x))\nmath = np.mean(train_qs.apply(lambda x: '[math]' in x))\nfullstop = np.mean(train_qs.apply(lambda x: '.' in x))\ncapital_first = np.mean(train_qs.apply(lambda x: x[0].isupper()))\ncapitals = np.mean(train_qs.apply(lambda x: max([y.isupper() for y in x])))\nnumbers = np.mean(train_qs.apply(lambda x: max([y.isdigit() for y in x])))\n\nprint('Questions with question marks: {:.2f}%'.format(qmarks * 100))\nprint('Questions with [math] tags: {:.2f}%'.format(math * 100))\nprint('Questions with full stops: {:.2f}%'.format(fullstop * 100))\nprint('Questions with capitalised first letters: {:.2f}%'.format(capital_first * 100))\nprint('Questions with capital letters: {:.2f}%'.format(capitals * 100))\nprint('Questions with numbers: {:.2f}%'.format(numbers * 100))",
      "execution_count": null,
      "outputs": []
    },
    {
      "metadata": {
        "_uuid": "f9cc9ee57a27189a408fb9d4b60261ed7066fa72",
        "_cell_guid": "656b602a-e321-6ee4-682a-e76959bccc19"
      },
      "cell_type": "markdown",
      "source": "# Initial Feature Analysis\n\nBefore we create a model, we should take a look at how powerful some features are. I will start off with the word share feature from the benchmark model."
    },
    {
      "metadata": {
        "_uuid": "c19e1a66777f64e20bebf0dd2d278fdea7e78c29",
        "_cell_guid": "ef13480a-2522-2d1f-cf8a-56670e0856ab",
        "trusted": false,
        "collapsed": true
      },
      "cell_type": "code",
      "source": "from nltk.corpus import stopwords\n\nstops = set(stopwords.words(\"english\"))\n\ndef word_match_share(row):\n    q1words = {}\n    q2words = {}\n    for word in str(row['question1']).lower().split():\n        if word not in stops:\n            q1words[word] = 1\n    for word in str(row['question2']).lower().split():\n        if word not in stops:\n            q2words[word] = 1\n    if len(q1words) == 0 or len(q2words) == 0:\n        # The computer-generated chaff includes a few questions that are nothing but stopwords\n        return 0\n    shared_words_in_q1 = [w for w in q1words.keys() if w in q2words]\n    shared_words_in_q2 = [w for w in q2words.keys() if w in q1words]\n    R = (len(shared_words_in_q1) + len(shared_words_in_q2))/(len(q1words) + len(q2words))\n    return R\n\nplt.figure(figsize=(15, 5))\ntrain_word_match = df_train.apply(word_match_share, axis=1, raw=True)\nplt.hist(train_word_match[df_train['is_duplicate'] == 0], bins=20, normed=True, label='Not Duplicate')\nplt.hist(train_word_match[df_train['is_duplicate'] == 1], bins=20, normed=True, alpha=0.7, label='Duplicate')\nplt.legend()\nplt.title('Label distribution over word_match_share', fontsize=15)\nplt.xlabel('word_match_share', fontsize=15)",
      "execution_count": null,
      "outputs": []
    },
    {
      "metadata": {
        "_uuid": "880064e49196a774342cac24fa7c9ee306dbb9eb",
        "_cell_guid": "24ce20d7-2c37-9833-dfdb-b4aac6b37e96"
      },
      "cell_type": "markdown",
      "source": "Here we can see that this feature has quite a lot of predictive power, as it is good at separating the duplicate questions from the non-duplicate ones. Interestingly, it seems very good at identifying questions which are definitely different, but is not so great at finding questions which are definitely duplicates.\n\n## TF-IDF\n\nI'm now going to try to improve this feature, by using something called TF-IDF (term-frequency-inverse-document-frequency). This means that we weigh the terms by how **uncommon** they are, meaning that we care more about rare words existing in both questions than common one. This makes sense, as for example we care more about whether the word \"exercise\" appears in both than the word \"and\" - as uncommon words will be more indicative of the content.\n\nYou may want to look into using sklearn's [TfidfVectorizer](http://scikit-learn.org/stable/modules/generated/sklearn.feature_extraction.text.TfidfVectorizer.html) to compute weights if you are implementing this yourself, but as I am too lazy to read the documentation I will write a version in pure python with a few changes which I believe should help the score."
    },
    {
      "metadata": {
        "_uuid": "75dc14339e39fab0f9d368d2579273c60a578c69",
        "_cell_guid": "99d8e8e1-e2fd-25c6-137d-4492b850e1b5",
        "trusted": false,
        "collapsed": true
      },
      "cell_type": "code",
      "source": "from collections import Counter\n\n# If a word appears only once, we ignore it completely (likely a typo)\n# Epsilon defines a smoothing constant, which makes the effect of extremely rare words smaller\ndef get_weight(count, eps=10000, min_count=2):\n    if count < min_count:\n        return 0\n    else:\n        return 1 / (count + eps)\n\neps = 5000 \nwords = (\" \".join(train_qs)).lower().split()\ncounts = Counter(words)\nweights = {word: get_weight(count) for word, count in counts.items()}",
      "execution_count": null,
      "outputs": []
    },
    {
      "metadata": {
        "_uuid": "56ceeab1591d276b597095f0f97a577b2e7ab559",
        "_cell_guid": "d791c6b1-9860-7c3b-2b96-0767e607d6dc",
        "trusted": false,
        "collapsed": true
      },
      "cell_type": "code",
      "source": "print('Most common words and weights: \\n')\nprint(sorted(weights.items(), key=lambda x: x[1] if x[1] > 0 else 9999)[:10])\nprint('\\nLeast common words and weights: ')\n(sorted(weights.items(), key=lambda x: x[1], reverse=True)[:10])",
      "execution_count": null,
      "outputs": []
    },
    {
      "metadata": {
        "_uuid": "0464d096fd08a19524a481723cd33a7e968c375d",
        "_cell_guid": "2c8f2e86-f96b-5d36-e2f1-5f4c4c903e26",
        "trusted": false,
        "collapsed": true
      },
      "cell_type": "code",
      "source": "def tfidf_word_match_share(row):\n    q1words = {}\n    q2words = {}\n    for word in str(row['question1']).lower().split():\n        if word not in stops:\n            q1words[word] = 1\n    for word in str(row['question2']).lower().split():\n        if word not in stops:\n            q2words[word] = 1\n    if len(q1words) == 0 or len(q2words) == 0:\n        # The computer-generated chaff includes a few questions that are nothing but stopwords\n        return 0\n    \n    shared_weights = [weights.get(w, 0) for w in q1words.keys() if w in q2words] + [weights.get(w, 0) for w in q2words.keys() if w in q1words]\n    total_weights = [weights.get(w, 0) for w in q1words] + [weights.get(w, 0) for w in q2words]\n    \n    R = np.sum(shared_weights) / np.sum(total_weights)\n    return R",
      "execution_count": null,
      "outputs": []
    },
    {
      "metadata": {
        "_uuid": "7936ed13858c9de1f16d2b8b9ad03ba02bbba908",
        "_cell_guid": "157fd891-0b63-22df-4129-e4267cb55ff0",
        "trusted": false,
        "collapsed": true
      },
      "cell_type": "code",
      "source": "plt.figure(figsize=(15, 5))\ntfidf_train_word_match = df_train.apply(tfidf_word_match_share, axis=1, raw=True)\nplt.hist(tfidf_train_word_match[df_train['is_duplicate'] == 0].fillna(0), bins=20, normed=True, label='Not Duplicate')\nplt.hist(tfidf_train_word_match[df_train['is_duplicate'] == 1].fillna(0), bins=20, normed=True, alpha=0.7, label='Duplicate')\nplt.legend()\nplt.title('Label distribution over tfidf_word_match_share', fontsize=15)\nplt.xlabel('word_match_share', fontsize=15)",
      "execution_count": null,
      "outputs": []
    },
    {
      "metadata": {
        "_uuid": "14bdb3ab93b98fcfdf1cd55a0ba1c97398d8159d",
        "_cell_guid": "f1814b89-b895-f442-0ba2-b4e2fc6b6288",
        "trusted": false,
        "collapsed": true
      },
      "cell_type": "code",
      "source": "from sklearn.metrics import roc_auc_score\nprint('Original AUC:', roc_auc_score(df_train['is_duplicate'], train_word_match))\nprint('   TFIDF AUC:', roc_auc_score(df_train['is_duplicate'], tfidf_train_word_match.fillna(0)))",
      "execution_count": null,
      "outputs": []
    },
    {
      "metadata": {
        "_uuid": "33e84044a424ba5b3a37c3a2f6a23076acf019d6",
        "_cell_guid": "28b46d9f-82fe-c37e-010c-a3e115687d41"
      },
      "cell_type": "markdown",
      "source": "So it looks like our TF-IDF actually got _worse_ in terms of overall AUC, which is a bit disappointing. (I am using the AUC metric since it is unaffected by scaling and similar, so it is a good metric for testing the predictive power of individual features.\n\nHowever, I still think that this feature should provide some extra information which is not provided by the original feature. Our next job is to combine these features and use it to make a prediction. For this, I will use our old friend XGBoost to make a classification model.\n\n## Rebalancing the Data\nHowever, before I do this, I would like to rebalance the data that XGBoost receives, since we have 37% positive class in our training data, and only 17% in the test data. By re-balancing the data so our training set has 17% positives, we can ensure that XGBoost outputs probabilities that will better match the data on the leaderboard, and should get a better score (since LogLoss looks at the probabilities themselves and not just the order of the predictions like AUC)"
    },
    {
      "metadata": {
        "_uuid": "58a5594820640d0558da469dbf391761cbef454d",
        "_cell_guid": "0589da36-d092-c951-f3cd-68df3fd91c7a",
        "trusted": false,
        "collapsed": true
      },
      "cell_type": "code",
      "source": "# First we create our training and testing data\nx_train = pd.DataFrame()\nx_test = pd.DataFrame()\nx_train['word_match'] = train_word_match\nx_train['tfidf_word_match'] = tfidf_train_word_match\nx_test['word_match'] = df_test.apply(word_match_share, axis=1, raw=True)\nx_test['tfidf_word_match'] = df_test.apply(tfidf_word_match_share, axis=1, raw=True)\n\ny_train = df_train['is_duplicate'].values",
      "execution_count": null,
      "outputs": []
    },
    {
      "metadata": {
        "_uuid": "23dfc1d1bd700b065828f74715a7e0beb30b0fac",
        "_cell_guid": "5ccae7db-46e1-cf74-fdd8-4d4758bf460f",
        "trusted": false,
        "collapsed": true
      },
      "cell_type": "code",
      "source": "pos_train = x_train[y_train == 1]\nneg_train = x_train[y_train == 0]\n\n# Now we oversample the negative class\n# There is likely a much more elegant way to do this...\np = 0.165\nscale = ((len(pos_train) / (len(pos_train) + len(neg_train))) / p) - 1\nwhile scale > 1:\n    neg_train = pd.concat([neg_train, neg_train])\n    scale -=1\nneg_train = pd.concat([neg_train, neg_train[:int(scale * len(neg_train))]])\nprint(len(pos_train) / (len(pos_train) + len(neg_train)))\n\nx_train = pd.concat([pos_train, neg_train])\ny_train = (np.zeros(len(pos_train)) + 1).tolist() + np.zeros(len(neg_train)).tolist()\ndel pos_train, neg_train",
      "execution_count": null,
      "outputs": []
    },
    {
      "metadata": {
        "_uuid": "6874070021d5f1552e5736c597ba96e735c0f79a",
        "_cell_guid": "20684b12-fd83-bad6-b00b-77c51dd14c32",
        "trusted": false,
        "collapsed": true
      },
      "cell_type": "code",
      "source": "# Finally, we split some of the data off for validation\nfrom sklearn.cross_validation import train_test_split\n\nx_train, x_valid, y_train, y_valid = train_test_split(x_train, y_train, test_size=0.2, random_state=4242)",
      "execution_count": null,
      "outputs": []
    },
    {
      "metadata": {
        "_uuid": "bc5d0e92d1bcf7cb0692f4602e3f918e117773ff",
        "_cell_guid": "9df47145-da6a-ad51-7bfb-1b588c4bab06"
      },
      "cell_type": "markdown",
      "source": "## XGBoost\n\nNow we can finally run XGBoost on our data."
    },
    {
      "metadata": {
        "_uuid": "736bf985f59eb509bdd81e17494734a00d12c048",
        "_cell_guid": "a5f9f7fc-5ec4-fc9f-7fc0-608f5f25e7c6",
        "trusted": false,
        "collapsed": true
      },
      "cell_type": "code",
      "source": "import xgboost as xgb\n\n# Set our parameters for xgboost\nparams = {}\nparams['objective'] = 'binary:logistic'\nparams['eval_metric'] = 'logloss'\nparams['eta'] = 0.02\nparams['max_depth'] = 4\n\nd_train = xgb.DMatrix(x_train, label=y_train)\nd_valid = xgb.DMatrix(x_valid, label=y_valid)\n\nwatchlist = [(d_train, 'train'), (d_valid, 'valid')]\n\nbst = xgb.train(params, d_train, 400, watchlist, early_stopping_rounds=50, verbose_eval=10)",
      "execution_count": null,
      "outputs": []
    },
    {
      "metadata": {
        "_uuid": "5555df71296ec5944629cee2d5f367b1ef7b87af",
        "_cell_guid": "11616998-a057-45e0-ac3c-d129e5cfec36",
        "trusted": false,
        "collapsed": true
      },
      "cell_type": "code",
      "source": "d_test = xgb.DMatrix(x_test)\np_test = bst.predict(d_test)\n\nsub = pd.DataFrame()\nsub['test_id'] = df_test['test_id']\nsub['is_duplicate'] = p_test\nsub.to_csv('simple_xgb.csv', index=False)",
      "execution_count": null,
      "outputs": []
    },
    {
      "metadata": {
        "_uuid": "d4675a87af13d28ad779600a819d31eb07725655",
        "_cell_guid": "4b74fd4a-5e89-27e1-5ddd-f170bc370697"
      },
      "cell_type": "markdown",
      "source": "**0.35460**  a good first score!"
    }
  ],
  "metadata": {
    "language_info": {
      "name": "python",
      "version": "3.6.4",
      "mimetype": "text/x-python",
      "codemirror_mode": {
        "name": "ipython",
        "version": 3
      },
      "pygments_lexer": "ipython3",
      "nbconvert_exporter": "python",
      "file_extension": ".py"
    },
    "_is_fork": false,
    "kernelspec": {
      "display_name": "Python 3",
      "language": "python",
      "name": "python3"
    },
    "_change_revision": 0
  },
  "nbformat": 4,
  "nbformat_minor": 1
}
